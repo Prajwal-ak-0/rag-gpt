{
 "cells": [
  {
   "cell_type": "markdown",
   "metadata": {},
   "source": [
    "## TEMPLATE"
   ]
  },
  {
   "cell_type": "code",
   "execution_count": null,
   "metadata": {
    "vscode": {
     "languageId": "plaintext"
    }
   },
   "outputs": [],
   "source": [
    "  const url =\n",
    "    \"https://utfs.io/f/877538c9-48c4-4561-87e1-a1cf737dcd5f-v5ud9p.pdf\";\n",
    "  const response = await fetch(url);\n",
    "  const blob = await response.blob();\n",
    "  const loader = new WebPDFLoader(blob);\n",
    "  const docs = await loader.load();"
   ]
  },
  {
   "cell_type": "markdown",
   "metadata": {},
   "source": [
    "## BASIC TEMPLATE"
   ]
  },
  {
   "cell_type": "code",
   "execution_count": null,
   "metadata": {
    "vscode": {
     "languageId": "plaintext"
    }
   },
   "outputs": [],
   "source": [
    "  const textSplitter = new RecursiveCharacterTextSplitter({\n",
    "    chunkSize: 1000,\n",
    "    chunkOverlap: 200,\n",
    "  });\n",
    "  const splits = await textSplitter.splitDocuments(docs);\n",
    "  const vectorStore = await MemoryVectorStore.fromDocuments(\n",
    "    splits,\n",
    "    new OpenAIEmbeddings({\n",
    "      openAIApiKey: process.env.OPENAI_API_KEY,\n",
    "    })\n",
    "  );\n",
    "\n",
    "  //   const retriever = vectorStore.asRetriever();\n",
    "  //   const prompt = await pull<ChatPromptTemplate>(\"rlm/rag-prompt\");\n",
    "  //   const llm = new ChatOpenAI({\n",
    "  //     model: \"gpt-3.5-turbo\",\n",
    "  //     temperature: 0,\n",
    "  //     openAIApiKey: process.env.OPENAI_API_KEY,\n",
    "  //   });\n",
    "\n",
    "  //   const declarativeRagChain = RunnableSequence.from([\n",
    "  //     {\n",
    "  //       context: retriever.pipe(formatDocumentsAsString),\n",
    "  //       question: new RunnablePassthrough(),\n",
    "  //     },\n",
    "  //     prompt,\n",
    "  //     llm,\n",
    "  //     new StringOutputParser(),\n",
    "  //   ]);\n",
    "\n",
    "  //   const res = await declarativeRagChain.invoke(\"What is Amarok?\");\n",
    "\n",
    "  //   console.log(res);\n",
    "  const retriever = vectorStore.asRetriever({ k: 3, searchType: \"similarity\" });\n",
    "  const retrievedDocs = await retriever.invoke(\n",
    "    \"What is Amarok?\"\n",
    "  );\n",
    "  console.log(retrievedDocs.length);\n",
    "  console.log(retrievedDocs[0].pageContent);"
   ]
  },
  {
   "cell_type": "markdown",
   "metadata": {},
   "source": [
    "## CUSTOM TEMPLATE"
   ]
  },
  {
   "cell_type": "markdown",
   "metadata": {},
   "source": [
    "import { PromptTemplate } from \"@langchain/core/prompts\";\n",
    "import { createStuffDocumentsChain } from \"langchain/chains/combine_documents\";\n",
    "\n",
    "const template = `Use the following pieces of context to answer the question at the end.\n",
    "If you don't know the answer, just say that you don't know, don't try to make up an answer.\n",
    "Use three sentences maximum and keep the answer as concise as possible.\n",
    "Always say \"thanks for asking!\" at the end of the answer.\n",
    "\n",
    "{context}\n",
    "\n",
    "Question: {question}\n",
    "\n",
    "Helpful Answer:`;\n",
    "\n",
    "const customRagPrompt = PromptTemplate.fromTemplate(template);\n",
    "\n",
    "const ragChain = await createStuffDocumentsChain({\n",
    "  llm,\n",
    "  prompt: customRagPrompt,\n",
    "  outputParser: new StringOutputParser(),\n",
    "});\n",
    "const context = await retriever.getRelevantDocuments(\n",
    "  \"what is task decomposition\"\n",
    ");\n",
    "\n",
    "await ragChain.invoke({\n",
    "  question: \"What is Task Decomposition?\",\n",
    "  context,\n",
    "});"
   ]
  },
  {
   "cell_type": "markdown",
   "metadata": {},
   "source": []
  }
 ],
 "metadata": {
  "language_info": {
   "name": "python"
  }
 },
 "nbformat": 4,
 "nbformat_minor": 2
}
